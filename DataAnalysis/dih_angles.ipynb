import mdtraj as md
import numpy as np
import sys
import pandas as pd
np.set_printoptions(threshold=sys.maxsize)
traj = md.load('traj000000001.dcd', top='lig1.prm7')
#indices = [5951, 5950, 5954, 5955]
#The angle is between the planes spanned by the first three atoms and the last three atoms,
# a torsion around the bond between the middle two atoms.
ind = np.ndarray(shape=(1, 4), dtype=int)
ind [0][0]=5951
ind [0][1]=5950
ind [0][2]=5954
ind [0][3]=5955
dih = md.compute_dihedrals(traj, ind, periodic=True, opt=True)
# The output array gives, in each frame from the trajectory, each of the torsion angles. The angles are measured in radians.#This prints the dihedrals just for the protein
## convert your array into a dataframe
df = pd.DataFrame(dih)
## save to xlsx file
filepath = 'dihedrals_lig1.xlsx'
df.to_excel(filepath, index=False)
