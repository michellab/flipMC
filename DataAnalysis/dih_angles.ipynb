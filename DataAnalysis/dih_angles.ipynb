{
 "cells": [
  {
   "cell_type": "code",
   "execution_count": null,
   "metadata": {},
   "outputs": [],
   "source": [
    "import mdtraj as md\n",
    "import numpy as np\n",
    "import sys\n",
    "import pandas as pd\n",
    "np.set_printoptions(threshold=sys.maxsize)\n",
    "traj = md.load('traj000000001.dcd', top='lig2.prm7')\n",
    "#indices = [5951, 5950, 5954, 5955]\n",
    "#The angle is between the planes spanned by the first three atoms and the last three atoms,\n",
    "# a torsion around the bond between the middle two atoms.\n",
    "ind = np.ndarray(shape=(1, 4), dtype=int)\n",
    "ind [0][0]=2\n",
    "ind [0][1]=3\n",
    "ind [0][2]=9\n",
    "ind [0][3]=10\n",
    "dih = md.compute_dihedrals(traj, ind, periodic=True, opt=True)\n",
    "# The output array gives, in each frame from the trajectory, each of the torsion angles. The angles are measured in radians.#This prints the dihedrals just for the protein\n",
    "## convert your array into a dataframe\n",
    "df = pd.DataFrame(dih)\n",
    "## save to xlsx file\n",
    "filepath = 'dihedrals_lig2_4.xlsx'\n",
    "df.to_excel(filepath, index=False)"
   ]
  }
 ],
 "metadata": {
  "kernelspec": {
   "display_name": "Python 3",
   "language": "python",
   "name": "python3"
  },
  "language_info": {
   "codemirror_mode": {
    "name": "ipython",
    "version": 3
   },
   "file_extension": ".py",
   "mimetype": "text/x-python",
   "name": "python",
   "nbconvert_exporter": "python",
   "pygments_lexer": "ipython3",
   "version": "3.7.4"
  }
 },
 "nbformat": 4,
 "nbformat_minor": 4
}
