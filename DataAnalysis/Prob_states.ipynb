#Calculating the probability of states:
past_states = [] #list of the total number of observations
orig_prob = [] #list of the probability of finding the molecule in original binding mode
flip_prob = []

orig_count = 0 #number of observations in orig state
flip_count = 0 #number of obs in flip state

for i in dih.Angle:
    
    past_states.append(i) 
    
    
    if i > 0:
        orig_count += 1  #increase count
        orig_prob.append(orig_count/len(past_states))  #get probability in that instant
        flip_prob.append(1-orig_count/len(past_states))
        continue
    else: 
        flip_count += 1                                       
        flip_prob.append(flip_count/len(past_states))          
        orig_prob.append(1-flip_count/len(past_states))
        continue
#Plotting the probability of states: 
x1 = dih.Time 
y1 = orig_prob

y2 = flip_prob

plt.plot(x1,y1, label = 'orig') 
plt.plot(x1,y2, label = 'flip')
plt.axhline(y=0.5, dashes = [1,1])
plt.xlabel('Time (ns)')
plt.ylabel('Probability of states')
plt.legend(loc="upper right")
plt.title('Ligand 1')
plt.show()
